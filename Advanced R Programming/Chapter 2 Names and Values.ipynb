{
 "cells": [
  {
   "cell_type": "markdown",
   "metadata": {},
   "source": [
    "# Chapter 2 Names and Values"
   ]
  },
  {
   "cell_type": "code",
   "execution_count": 2,
   "metadata": {},
   "outputs": [
    {
     "name": "stderr",
     "output_type": "stream",
     "text": [
      "── \u001b[1mAttaching packages\u001b[22m ─────────────────────────────────────── tidyverse 1.3.0 ──\n",
      "\n",
      "\u001b[32m✔\u001b[39m \u001b[34mggplot2\u001b[39m 3.3.2     \u001b[32m✔\u001b[39m \u001b[34mpurrr  \u001b[39m 0.3.4\n",
      "\u001b[32m✔\u001b[39m \u001b[34mtibble \u001b[39m 3.0.1     \u001b[32m✔\u001b[39m \u001b[34mdplyr  \u001b[39m 1.0.0\n",
      "\u001b[32m✔\u001b[39m \u001b[34mtidyr  \u001b[39m 1.1.0     \u001b[32m✔\u001b[39m \u001b[34mstringr\u001b[39m 1.4.0\n",
      "\u001b[32m✔\u001b[39m \u001b[34mreadr  \u001b[39m 1.3.1     \u001b[32m✔\u001b[39m \u001b[34mforcats\u001b[39m 0.5.0\n",
      "\n",
      "── \u001b[1mConflicts\u001b[22m ────────────────────────────────────────── tidyverse_conflicts() ──\n",
      "\u001b[31m✖\u001b[39m \u001b[34mdplyr\u001b[39m::\u001b[32mfilter()\u001b[39m masks \u001b[34mstats\u001b[39m::filter()\n",
      "\u001b[31m✖\u001b[39m \u001b[34mdplyr\u001b[39m::\u001b[32mlag()\u001b[39m    masks \u001b[34mstats\u001b[39m::lag()\n",
      "\n"
     ]
    }
   ],
   "source": [
    "set.seed(1014)\n",
    "library(tidyverse)"
   ]
  },
  {
   "cell_type": "markdown",
   "metadata": {},
   "source": [
    "## Section 2.1"
   ]
  },
  {
   "cell_type": "markdown",
   "metadata": {},
   "source": [
    "### Question 1\n",
    "\n",
    "Given the following data frame, how do I create a new columna names `3` that contains the sum of `1` and `2`? You may only use the $ operator, not [[. What makes `1`, `2`, and `3` challenging as varible names."
   ]
  },
  {
   "cell_type": "code",
   "execution_count": 3,
   "metadata": {},
   "outputs": [
    {
     "data": {
      "text/html": [
       "<table class=\"dataframe\">\n",
       "<caption>A data.frame: 3 × 3</caption>\n",
       "<thead>\n",
       "\t<tr><th scope=col>1</th><th scope=col>2</th><th scope=col>3</th></tr>\n",
       "\t<tr><th scope=col>&lt;dbl&gt;</th><th scope=col>&lt;dbl&gt;</th><th scope=col>&lt;dbl&gt;</th></tr>\n",
       "</thead>\n",
       "<tbody>\n",
       "\t<tr><td>0.08075014</td><td>0.157208442</td><td>0.2379586</td></tr>\n",
       "\t<tr><td>0.83433304</td><td>0.007399441</td><td>0.8417325</td></tr>\n",
       "\t<tr><td>0.60076089</td><td>0.466393497</td><td>1.0671544</td></tr>\n",
       "</tbody>\n",
       "</table>\n"
      ],
      "text/latex": [
       "A data.frame: 3 × 3\n",
       "\\begin{tabular}{lll}\n",
       " 1 & 2 & 3\\\\\n",
       " <dbl> & <dbl> & <dbl>\\\\\n",
       "\\hline\n",
       "\t 0.08075014 & 0.157208442 & 0.2379586\\\\\n",
       "\t 0.83433304 & 0.007399441 & 0.8417325\\\\\n",
       "\t 0.60076089 & 0.466393497 & 1.0671544\\\\\n",
       "\\end{tabular}\n"
      ],
      "text/markdown": [
       "\n",
       "A data.frame: 3 × 3\n",
       "\n",
       "| 1 &lt;dbl&gt; | 2 &lt;dbl&gt; | 3 &lt;dbl&gt; |\n",
       "|---|---|---|\n",
       "| 0.08075014 | 0.157208442 | 0.2379586 |\n",
       "| 0.83433304 | 0.007399441 | 0.8417325 |\n",
       "| 0.60076089 | 0.466393497 | 1.0671544 |\n",
       "\n"
      ],
      "text/plain": [
       "  1          2           3        \n",
       "1 0.08075014 0.157208442 0.2379586\n",
       "2 0.83433304 0.007399441 0.8417325\n",
       "3 0.60076089 0.466393497 1.0671544"
      ]
     },
     "metadata": {},
     "output_type": "display_data"
    }
   ],
   "source": [
    "df <- data.frame(runif(3), runif(3))\n",
    "names(df) <- c(1, 2)\n",
    "\n",
    "df$`3` <- df$`1` + df$`2`\n",
    "df"
   ]
  },
  {
   "cell_type": "markdown",
   "metadata": {},
   "source": [
    "### Question 2\n",
    "\n",
    "In the following code, how much memory does `y` occupy?"
   ]
  },
  {
   "cell_type": "code",
   "execution_count": 4,
   "metadata": {},
   "outputs": [
    {
     "data": {
      "text/plain": [
       "24000224 bytes"
      ]
     },
     "metadata": {},
     "output_type": "display_data"
    }
   ],
   "source": [
    "x <- runif(1e6)\n",
    "\n",
    "y <- list(x, x, x)\n",
    "\n",
    "object.size(y)\n"
   ]
  },
  {
   "cell_type": "markdown",
   "metadata": {},
   "source": [
    "### Question 3\n",
    "\n",
    "On which line does `a` get copied in the following example?\n",
    "\n",
    "a <- c(1, 5, 3, 2)\n",
    "b <- a\n",
    "b[[1]] <- 10\n",
    "\n",
    "`a` gets copied in the second line."
   ]
  },
  {
   "cell_type": "markdown",
   "metadata": {},
   "source": [
    "### Solutions\n",
    "\n",
    "- Question 1: Correct\n",
    "- Question 2: Incorrect\n",
    "- Question 3: Incorrect"
   ]
  },
  {
   "cell_type": "markdown",
   "metadata": {},
   "source": [
    "## Section 2.2\n",
    "\n",
    "Consider the code: `x <- c(1,2,3)`.\n",
    "\n",
    "This code is doing two things:\n",
    "\n",
    "1. It's creating an object, a vector of values, c(1, 2, 3)\n",
    "2. And it's binding that object to a name, `x`.\n",
    "\n",
    "What does this mean? It means `x` is not the object at all. It's the the binding - essentially, the name. This also means that when I run this piece of code:\n",
    "\n",
    "`y <- x`\n",
    "\n",
    "I am not creating a new object at all. I just get another binding to the vector that was creating. (This is why Question 2 was wrong. The line I said was the copy was really just another binding.)\n",
    "\n",
    "I can see the new object's location using `lobstr::obj_addr()` as shown in the example below."
   ]
  },
  {
   "cell_type": "code",
   "execution_count": 5,
   "metadata": {},
   "outputs": [
    {
     "data": {
      "text/html": [
       "'0x7fb78f27b6a8'"
      ],
      "text/latex": [
       "'0x7fb78f27b6a8'"
      ],
      "text/markdown": [
       "'0x7fb78f27b6a8'"
      ],
      "text/plain": [
       "[1] \"0x7fb78f27b6a8\""
      ]
     },
     "metadata": {},
     "output_type": "display_data"
    },
    {
     "data": {
      "text/html": [
       "'0x7fb78f27b6a8'"
      ],
      "text/latex": [
       "'0x7fb78f27b6a8'"
      ],
      "text/markdown": [
       "'0x7fb78f27b6a8'"
      ],
      "text/plain": [
       "[1] \"0x7fb78f27b6a8\""
      ]
     },
     "metadata": {},
     "output_type": "display_data"
    }
   ],
   "source": [
    "x <- c(1,2,3)\n",
    "y <- x\n",
    "\n",
    "library(lobstr)\n",
    "obj_addr(x)\n",
    "obj_addr(y)"
   ]
  },
  {
   "cell_type": "markdown",
   "metadata": {},
   "source": [
    "### Non-syntatic Names \n",
    "\n",
    "R has strict rules about what constitutes a valid name. A __syntatic__ name must consist of letters, digits, `.`, and `_`. There are two rules to follow:\n",
    "\n",
    "1. A valid name cannot start with `_` or a digit.\n",
    "2. A valid name cannot be any of the __reserved words__ like `TRUE`, `NULL`, `if`, and `function`. (This list can be seen in `?Reserved`)\n",
    "\n",
    "A name that doesn't follow these rules are known as __non-syntatic__ names."
   ]
  },
  {
   "cell_type": "code",
   "execution_count": 10,
   "metadata": {},
   "outputs": [
    {
     "ename": "ERROR",
     "evalue": "Error in parse(text = x, srcfile = src): <text>:1:1: unexpected input\n1: _\n    ^\n",
     "output_type": "error",
     "traceback": [
      "Error in parse(text = x, srcfile = src): <text>:1:1: unexpected input\n1: _\n    ^\nTraceback:\n"
     ]
    }
   ],
   "source": [
    "_abc <- 1"
   ]
  },
  {
   "cell_type": "code",
   "execution_count": 7,
   "metadata": {},
   "outputs": [
    {
     "ename": "ERROR",
     "evalue": "Error in parse(text = x, srcfile = src): <text>:1:4: unexpected assignment\n1: if <-\n       ^\n",
     "output_type": "error",
     "traceback": [
      "Error in parse(text = x, srcfile = src): <text>:1:4: unexpected assignment\n1: if <-\n       ^\nTraceback:\n"
     ]
    }
   ],
   "source": [
    "if <- 10"
   ]
  },
  {
   "cell_type": "markdown",
   "metadata": {},
   "source": [
    "I can override these these rules by using the backticks, but this is not recommended."
   ]
  },
  {
   "cell_type": "code",
   "execution_count": 8,
   "metadata": {},
   "outputs": [
    {
     "data": {
      "text/html": [
       "1"
      ],
      "text/latex": [
       "1"
      ],
      "text/markdown": [
       "1"
      ],
      "text/plain": [
       "[1] 1"
      ]
     },
     "metadata": {},
     "output_type": "display_data"
    }
   ],
   "source": [
    "`_abc` <- 1\n",
    "`_abc`"
   ]
  },
  {
   "cell_type": "code",
   "execution_count": 9,
   "metadata": {},
   "outputs": [
    {
     "data": {
      "text/html": [
       "10"
      ],
      "text/latex": [
       "10"
      ],
      "text/markdown": [
       "10"
      ],
      "text/plain": [
       "[1] 10"
      ]
     },
     "metadata": {},
     "output_type": "display_data"
    }
   ],
   "source": [
    "`if` <- 10\n",
    "`if`"
   ]
  },
  {
   "cell_type": "markdown",
   "metadata": {},
   "source": [
    "### 2.2.2 Exercises"
   ]
  },
  {
   "cell_type": "markdown",
   "metadata": {},
   "source": [
    "#### Question 1\n",
    "\n",
    "Explain the relationship between `a`, `b`, `c`, and `d` in the following code:"
   ]
  },
  {
   "cell_type": "code",
   "execution_count": 12,
   "metadata": {},
   "outputs": [
    {
     "data": {
      "text/html": [
       "'0x7fb78dc5add8'"
      ],
      "text/latex": [
       "'0x7fb78dc5add8'"
      ],
      "text/markdown": [
       "'0x7fb78dc5add8'"
      ],
      "text/plain": [
       "[1] \"0x7fb78dc5add8\""
      ]
     },
     "metadata": {},
     "output_type": "display_data"
    },
    {
     "data": {
      "text/html": [
       "'0x7fb78dc5add8'"
      ],
      "text/latex": [
       "'0x7fb78dc5add8'"
      ],
      "text/markdown": [
       "'0x7fb78dc5add8'"
      ],
      "text/plain": [
       "[1] \"0x7fb78dc5add8\""
      ]
     },
     "metadata": {},
     "output_type": "display_data"
    },
    {
     "data": {
      "text/html": [
       "'0x7fb78dc5add8'"
      ],
      "text/latex": [
       "'0x7fb78dc5add8'"
      ],
      "text/markdown": [
       "'0x7fb78dc5add8'"
      ],
      "text/plain": [
       "[1] \"0x7fb78dc5add8\""
      ]
     },
     "metadata": {},
     "output_type": "display_data"
    },
    {
     "data": {
      "text/html": [
       "'0x7fb78dd5cc18'"
      ],
      "text/latex": [
       "'0x7fb78dd5cc18'"
      ],
      "text/markdown": [
       "'0x7fb78dd5cc18'"
      ],
      "text/plain": [
       "[1] \"0x7fb78dd5cc18\""
      ]
     },
     "metadata": {},
     "output_type": "display_data"
    }
   ],
   "source": [
    "a <- 1:10\n",
    "b <- a\n",
    "c <- b\n",
    "d <- 1:10\n",
    "\n",
    "obj_addr(a)\n",
    "obj_addr(b)\n",
    "obj_addr(c)\n",
    "obj_addr(d)"
   ]
  },
  {
   "cell_type": "markdown",
   "metadata": {},
   "source": [
    "The vector of `1:10` is binded to `a`, `b`, and `c`. Evidence of this is the similar locations of `a`, `b`, and `c`. A new vector of `1:10` is created and bound to `d`."
   ]
  },
  {
   "cell_type": "markdown",
   "metadata": {},
   "source": [
    "#### Question 2\n",
    "\n",
    "The following code accesses the mean function in multiple ways. Do they all point to the same underlying object? Verify this with `lobstr::obj_addr()`."
   ]
  },
  {
   "cell_type": "code",
   "execution_count": 18,
   "metadata": {},
   "outputs": [
    {
     "data": {
      "text/html": [
       "<pre class=language-r><code>function (x, ...) \n",
       "UseMethod(\"mean\")</code></pre>"
      ],
      "text/latex": [
       "\\begin{minted}{r}\n",
       "function (x, ...) \n",
       "UseMethod(\"mean\")\n",
       "\\end{minted}"
      ],
      "text/markdown": [
       "```r\n",
       "function (x, ...) \n",
       "UseMethod(\"mean\")\n",
       "```"
      ],
      "text/plain": [
       "function (x, ...) \n",
       "UseMethod(\"mean\")\n",
       "<bytecode: 0x7fb7854dfaa8>\n",
       "<environment: namespace:base>"
      ]
     },
     "metadata": {},
     "output_type": "display_data"
    }
   ],
   "source": [
    "mean"
   ]
  },
  {
   "cell_type": "code",
   "execution_count": 19,
   "metadata": {},
   "outputs": [
    {
     "data": {
      "text/html": [
       "'0x7fb78550be40'"
      ],
      "text/latex": [
       "'0x7fb78550be40'"
      ],
      "text/markdown": [
       "'0x7fb78550be40'"
      ],
      "text/plain": [
       "[1] \"0x7fb78550be40\""
      ]
     },
     "metadata": {},
     "output_type": "display_data"
    }
   ],
   "source": [
    "obj_addr(mean)"
   ]
  },
  {
   "cell_type": "code",
   "execution_count": 20,
   "metadata": {},
   "outputs": [
    {
     "data": {
      "text/html": [
       "<pre class=language-r><code>function (x, ...) \n",
       "UseMethod(\"mean\")</code></pre>"
      ],
      "text/latex": [
       "\\begin{minted}{r}\n",
       "function (x, ...) \n",
       "UseMethod(\"mean\")\n",
       "\\end{minted}"
      ],
      "text/markdown": [
       "```r\n",
       "function (x, ...) \n",
       "UseMethod(\"mean\")\n",
       "```"
      ],
      "text/plain": [
       "function (x, ...) \n",
       "UseMethod(\"mean\")\n",
       "<bytecode: 0x7fb7854dfaa8>\n",
       "<environment: namespace:base>"
      ]
     },
     "metadata": {},
     "output_type": "display_data"
    }
   ],
   "source": [
    "base::mean"
   ]
  },
  {
   "cell_type": "code",
   "execution_count": 22,
   "metadata": {},
   "outputs": [
    {
     "data": {
      "text/html": [
       "'0x7fb78550be40'"
      ],
      "text/latex": [
       "'0x7fb78550be40'"
      ],
      "text/markdown": [
       "'0x7fb78550be40'"
      ],
      "text/plain": [
       "[1] \"0x7fb78550be40\""
      ]
     },
     "metadata": {},
     "output_type": "display_data"
    }
   ],
   "source": [
    "obj_addr(base::mean)"
   ]
  },
  {
   "cell_type": "code",
   "execution_count": 24,
   "metadata": {},
   "outputs": [
    {
     "data": {
      "text/html": [
       "<pre class=language-r><code>function (x, ...) \n",
       "UseMethod(\"mean\")</code></pre>"
      ],
      "text/latex": [
       "\\begin{minted}{r}\n",
       "function (x, ...) \n",
       "UseMethod(\"mean\")\n",
       "\\end{minted}"
      ],
      "text/markdown": [
       "```r\n",
       "function (x, ...) \n",
       "UseMethod(\"mean\")\n",
       "```"
      ],
      "text/plain": [
       "function (x, ...) \n",
       "UseMethod(\"mean\")\n",
       "<bytecode: 0x7fb7854dfaa8>\n",
       "<environment: namespace:base>"
      ]
     },
     "metadata": {},
     "output_type": "display_data"
    }
   ],
   "source": [
    "get(\"mean\")"
   ]
  },
  {
   "cell_type": "code",
   "execution_count": 25,
   "metadata": {},
   "outputs": [
    {
     "data": {
      "text/html": [
       "'0x7fb78550be40'"
      ],
      "text/latex": [
       "'0x7fb78550be40'"
      ],
      "text/markdown": [
       "'0x7fb78550be40'"
      ],
      "text/plain": [
       "[1] \"0x7fb78550be40\""
      ]
     },
     "metadata": {},
     "output_type": "display_data"
    }
   ],
   "source": [
    "obj_addr(get(\"mean\"))"
   ]
  },
  {
   "cell_type": "code",
   "execution_count": 26,
   "metadata": {},
   "outputs": [
    {
     "data": {
      "text/html": [
       "<pre class=language-r><code>function (x, ...) \n",
       "UseMethod(\"mean\")</code></pre>"
      ],
      "text/latex": [
       "\\begin{minted}{r}\n",
       "function (x, ...) \n",
       "UseMethod(\"mean\")\n",
       "\\end{minted}"
      ],
      "text/markdown": [
       "```r\n",
       "function (x, ...) \n",
       "UseMethod(\"mean\")\n",
       "```"
      ],
      "text/plain": [
       "function (x, ...) \n",
       "UseMethod(\"mean\")\n",
       "<bytecode: 0x7fb7854dfaa8>\n",
       "<environment: namespace:base>"
      ]
     },
     "metadata": {},
     "output_type": "display_data"
    }
   ],
   "source": [
    "evalq(mean)"
   ]
  },
  {
   "cell_type": "code",
   "execution_count": 27,
   "metadata": {},
   "outputs": [
    {
     "data": {
      "text/html": [
       "'0x7fb78550be40'"
      ],
      "text/latex": [
       "'0x7fb78550be40'"
      ],
      "text/markdown": [
       "'0x7fb78550be40'"
      ],
      "text/plain": [
       "[1] \"0x7fb78550be40\""
      ]
     },
     "metadata": {},
     "output_type": "display_data"
    }
   ],
   "source": [
    "obj_addr(evalq(mean))"
   ]
  },
  {
   "cell_type": "code",
   "execution_count": 17,
   "metadata": {},
   "outputs": [
    {
     "data": {
      "text/html": [
       "<pre class=language-r><code>function (x, ...) \n",
       "UseMethod(\"mean\")</code></pre>"
      ],
      "text/latex": [
       "\\begin{minted}{r}\n",
       "function (x, ...) \n",
       "UseMethod(\"mean\")\n",
       "\\end{minted}"
      ],
      "text/markdown": [
       "```r\n",
       "function (x, ...) \n",
       "UseMethod(\"mean\")\n",
       "```"
      ],
      "text/plain": [
       "function (x, ...) \n",
       "UseMethod(\"mean\")\n",
       "<bytecode: 0x7fb7854dfaa8>\n",
       "<environment: namespace:base>"
      ]
     },
     "metadata": {},
     "output_type": "display_data"
    }
   ],
   "source": [
    "match.fun(\"mean\")"
   ]
  },
  {
   "cell_type": "code",
   "execution_count": 28,
   "metadata": {},
   "outputs": [
    {
     "data": {
      "text/html": [
       "'0x7fb78550be40'"
      ],
      "text/latex": [
       "'0x7fb78550be40'"
      ],
      "text/markdown": [
       "'0x7fb78550be40'"
      ],
      "text/plain": [
       "[1] \"0x7fb78550be40\""
      ]
     },
     "metadata": {},
     "output_type": "display_data"
    }
   ],
   "source": [
    "obj_addr(match.fun(\"mean\"))"
   ]
  },
  {
   "cell_type": "markdown",
   "metadata": {},
   "source": [
    "Yes, all these calls point to the same underlying function object."
   ]
  },
  {
   "cell_type": "markdown",
   "metadata": {},
   "source": [
    "#### Question 3\n",
    "\n",
    "By default, base R import functions, like `read.csv`, will automatically convert non-syntactic names to syntatic ones. Why might this be problematic? What options allows you to suppress this behaviour?\n",
    "\n",
    "The problem with this is calling the variables later in the code. Additionally, R will read in the variables using the backticks and I might notice that.\n",
    "\n",
    "Within `read.csv`, and other data import options, I can submit a string vector to pre-set the names upon import."
   ]
  },
  {
   "cell_type": "markdown",
   "metadata": {},
   "source": [
    "#### Question 4\n",
    "\n",
    "What rules `make.names()` use to convert non-syntatic names into syntatic ones?\n",
    "\n",
    "First, an error will be kicked out if one of the two rules are broken. If characters besides `.` or `_` are used, they are replaced with `.`. "
   ]
  },
  {
   "cell_type": "markdown",
   "metadata": {},
   "source": [
    "#### Question 5\n",
    "\n",
    "I slightly simplified the rules that govern syntatic names. Why is `.123e1` not a syntatic name? Read `?make.names` for the full details."
   ]
  },
  {
   "cell_type": "code",
   "execution_count": 31,
   "metadata": {},
   "outputs": [],
   "source": [
    "?make.names"
   ]
  },
  {
   "cell_type": "markdown",
   "metadata": {},
   "source": [
    "The variable `.123e1` is not syntatic because it starts with a `.`."
   ]
  },
  {
   "cell_type": "markdown",
   "metadata": {},
   "source": [
    "## 2.3 Copy-on-modify\n",
    "\n",
    "Previously, it was shown that the following code binds both `x` and `y` are bound to the same vector."
   ]
  },
  {
   "cell_type": "code",
   "execution_count": 32,
   "metadata": {},
   "outputs": [],
   "source": [
    "x <- c(1,2,3)\n",
    "y <- x"
   ]
  },
  {
   "cell_type": "markdown",
   "metadata": {},
   "source": [
    "So what happens when I modify `y`? R does not create a new object. Instead, R makes a copy, applies the modification, and binds it to `y`."
   ]
  },
  {
   "cell_type": "code",
   "execution_count": 33,
   "metadata": {},
   "outputs": [
    {
     "data": {
      "text/html": [
       "<style>\n",
       ".list-inline {list-style: none; margin:0; padding: 0}\n",
       ".list-inline>li {display: inline-block}\n",
       ".list-inline>li:not(:last-child)::after {content: \"\\00b7\"; padding: 0 .5ex}\n",
       "</style>\n",
       "<ol class=list-inline><li>1</li><li>2</li><li>4</li></ol>\n"
      ],
      "text/latex": [
       "\\begin{enumerate*}\n",
       "\\item 1\n",
       "\\item 2\n",
       "\\item 4\n",
       "\\end{enumerate*}\n"
      ],
      "text/markdown": [
       "1. 1\n",
       "2. 2\n",
       "3. 4\n",
       "\n",
       "\n"
      ],
      "text/plain": [
       "[1] 1 2 4"
      ]
     },
     "metadata": {},
     "output_type": "display_data"
    },
    {
     "data": {
      "text/html": [
       "<style>\n",
       ".list-inline {list-style: none; margin:0; padding: 0}\n",
       ".list-inline>li {display: inline-block}\n",
       ".list-inline>li:not(:last-child)::after {content: \"\\00b7\"; padding: 0 .5ex}\n",
       "</style>\n",
       "<ol class=list-inline><li>1</li><li>2</li><li>3</li></ol>\n"
      ],
      "text/latex": [
       "\\begin{enumerate*}\n",
       "\\item 1\n",
       "\\item 2\n",
       "\\item 3\n",
       "\\end{enumerate*}\n"
      ],
      "text/markdown": [
       "1. 1\n",
       "2. 2\n",
       "3. 3\n",
       "\n",
       "\n"
      ],
      "text/plain": [
       "[1] 1 2 3"
      ]
     },
     "metadata": {},
     "output_type": "display_data"
    }
   ],
   "source": [
    "y[[3]] <- 4\n",
    "y\n",
    "x"
   ]
  },
  {
   "cell_type": "code",
   "execution_count": 34,
   "metadata": {},
   "outputs": [
    {
     "data": {
      "text/html": [
       "'0x7fb78e423e78'"
      ],
      "text/latex": [
       "'0x7fb78e423e78'"
      ],
      "text/markdown": [
       "'0x7fb78e423e78'"
      ],
      "text/plain": [
       "[1] \"0x7fb78e423e78\""
      ]
     },
     "metadata": {},
     "output_type": "display_data"
    },
    {
     "data": {
      "text/html": [
       "'0x7fb7871784f8'"
      ],
      "text/latex": [
       "'0x7fb7871784f8'"
      ],
      "text/markdown": [
       "'0x7fb7871784f8'"
      ],
      "text/plain": [
       "[1] \"0x7fb7871784f8\""
      ]
     },
     "metadata": {},
     "output_type": "display_data"
    }
   ],
   "source": [
    "obj_addr(x)\n",
    "obj_addr(y)"
   ]
  },
  {
   "cell_type": "markdown",
   "metadata": {},
   "source": [
    "This behaviour is called __copy-on-modify__. "
   ]
  },
  {
   "cell_type": "markdown",
   "metadata": {},
   "source": [
    "### 2.3.1 tracemem()\n",
    "\n",
    "I can see when an object is copied with the help of `base::tracemem()`."
   ]
  },
  {
   "cell_type": "code",
   "execution_count": 35,
   "metadata": {},
   "outputs": [
    {
     "name": "stdout",
     "output_type": "stream",
     "text": [
      "<0x7fb78b4da368> \n"
     ]
    }
   ],
   "source": [
    "x <- c(1,2,3)\n",
    "cat(tracemem(x), \"\\n\")"
   ]
  },
  {
   "cell_type": "code",
   "execution_count": 36,
   "metadata": {},
   "outputs": [
    {
     "data": {
      "text/html": [
       "'&lt;0x7fb78b4da368&gt;'"
      ],
      "text/latex": [
       "'<0x7fb78b4da368>'"
      ],
      "text/markdown": [
       "'&lt;0x7fb78b4da368&gt;'"
      ],
      "text/plain": [
       "[1] \"<0x7fb78b4da368>\""
      ]
     },
     "metadata": {},
     "output_type": "display_data"
    }
   ],
   "source": [
    "tracemem(x)"
   ]
  },
  {
   "cell_type": "code",
   "execution_count": 37,
   "metadata": {},
   "outputs": [
    {
     "name": "stdout",
     "output_type": "stream",
     "text": [
      "tracemem[0x7fb78b4da368 -> 0x7fb78ddc1298]: eval eval withVisible withCallingHandlers doTryCatch tryCatchOne tryCatchList tryCatch try handle timing_fn evaluate_call evaluate doTryCatch tryCatchOne tryCatchList doTryCatch tryCatchOne tryCatchList tryCatch <Anonymous> handle_shell <Anonymous> <Anonymous> \n"
     ]
    }
   ],
   "source": [
    "y <- x\n",
    "y[[3]] <- 4L\n"
   ]
  },
  {
   "cell_type": "code",
   "execution_count": 38,
   "metadata": {},
   "outputs": [],
   "source": [
    "y[[3]] <- 5L\n",
    "untracemem(x)"
   ]
  },
  {
   "cell_type": "markdown",
   "metadata": {},
   "source": [
    "### 2.3.2 Function calls\n",
    "\n",
    "The same rules for copying also apply to function calls. Consider the following code:"
   ]
  },
  {
   "cell_type": "code",
   "execution_count": 40,
   "metadata": {},
   "outputs": [
    {
     "data": {
      "text/html": [
       "'&lt;0x7fb78b6a4c98&gt;'"
      ],
      "text/latex": [
       "'<0x7fb78b6a4c98>'"
      ],
      "text/markdown": [
       "'&lt;0x7fb78b6a4c98&gt;'"
      ],
      "text/plain": [
       "[1] \"<0x7fb78b6a4c98>\""
      ]
     },
     "metadata": {},
     "output_type": "display_data"
    }
   ],
   "source": [
    "f <- function(a){\n",
    "    a\n",
    "}\n",
    "\n",
    "x <- c(1,2,3)\n",
    "tracemem(x)\n",
    "\n",
    "z <- f(x) # there isn't a copy here...\n",
    "\n",
    "untracemem(x)"
   ]
  },
  {
   "cell_type": "markdown",
   "metadata": {},
   "source": [
    "### 2.3.3 Lists\n",
    "\n",
    "It's not just names (i.e., variables) that point to values... elements of lists do too! (mind blown!)"
   ]
  },
  {
   "cell_type": "code",
   "execution_count": 46,
   "metadata": {},
   "outputs": [
    {
     "data": {
      "text/plain": [
       "\u001b[38;5;214m█\u001b[39m [\u001b[1m1\u001b[22m:0x7fb78b46ab58] <list> \n",
       "├─[\u001b[1m2\u001b[22m:0x7fb7898fede8] <dbl> \n",
       "├─[\u001b[1m3\u001b[22m:0x7fb7898fee20] <dbl> \n",
       "└─[\u001b[1m4\u001b[22m:0x7fb7898fef00] <dbl> \n",
       " \n",
       "\u001b[38;5;214m█\u001b[39m [\u001b[1m5\u001b[22m:0x7fb78f0f9d38] <list> \n",
       "├─[\u001b[38;5;244m2:0x7fb7898fede8\u001b[39m] \n",
       "├─[\u001b[38;5;244m3:0x7fb7898fee20\u001b[39m] \n",
       "└─[\u001b[1m6\u001b[22m:0x7fb7898fefe0] <dbl> "
      ]
     },
     "metadata": {},
     "output_type": "display_data"
    }
   ],
   "source": [
    "l1 <- list(1,2,3)\n",
    "l2 <- l1\n",
    "l2[[3]] <- 4\n",
    "ref(l1, l2)"
   ]
  },
  {
   "cell_type": "markdown",
   "metadata": {},
   "source": [
    "### 2.3.4 Data frames\n",
    "\n",
    "Data frames are lists of vectors, so copy-on-modify has important consequences when you modify a data frame."
   ]
  },
  {
   "cell_type": "code",
   "execution_count": 47,
   "metadata": {},
   "outputs": [],
   "source": [
    "d1 <- data.frame(x = c(1, 5, 6),\n",
    "                 y = c(2, 4, 3))\n",
    "\n",
    "d2 <- d1\n",
    "d2[,2] <- d2[,2] * 2"
   ]
  },
  {
   "cell_type": "code",
   "execution_count": 48,
   "metadata": {},
   "outputs": [
    {
     "data": {
      "text/plain": [
       "\u001b[38;5;214m█\u001b[39m [\u001b[1m1\u001b[22m:0x7fb78b4bbcc8] <df[,2]> \n",
       "├─\u001b[3m\u001b[38;5;244mx\u001b[39m\u001b[23m = [\u001b[1m2\u001b[22m:0x7fb7908d9d38] <dbl> \n",
       "└─\u001b[3m\u001b[38;5;244my\u001b[39m\u001b[23m = [\u001b[1m3\u001b[22m:0x7fb7908d9c98] <dbl> \n",
       " \n",
       "\u001b[38;5;214m█\u001b[39m [\u001b[1m4\u001b[22m:0x7fb78f0c94c8] <df[,2]> \n",
       "├─\u001b[3m\u001b[38;5;244mx\u001b[39m\u001b[23m = [\u001b[38;5;244m2:0x7fb7908d9d38\u001b[39m] \n",
       "└─\u001b[3m\u001b[38;5;244my\u001b[39m\u001b[23m = [\u001b[1m5\u001b[22m:0x7fb79092c488] <dbl> "
      ]
     },
     "metadata": {},
     "output_type": "display_data"
    }
   ],
   "source": [
    "ref(d1, d2)"
   ]
  },
  {
   "cell_type": "code",
   "execution_count": 49,
   "metadata": {},
   "outputs": [
    {
     "data": {
      "text/plain": [
       "\u001b[38;5;214m█\u001b[39m [\u001b[1m1\u001b[22m:0x7fb78b4bbcc8] <df[,2]> \n",
       "├─\u001b[3m\u001b[38;5;244mx\u001b[39m\u001b[23m = [\u001b[1m2\u001b[22m:0x7fb7908d9d38] <dbl> \n",
       "└─\u001b[3m\u001b[38;5;244my\u001b[39m\u001b[23m = [\u001b[1m3\u001b[22m:0x7fb7908d9c98] <dbl> \n",
       " \n",
       "\u001b[38;5;214m█\u001b[39m [\u001b[1m4\u001b[22m:0x7fb78f0c94c8] <df[,2]> \n",
       "├─\u001b[3m\u001b[38;5;244mx\u001b[39m\u001b[23m = [\u001b[38;5;244m2:0x7fb7908d9d38\u001b[39m] \n",
       "└─\u001b[3m\u001b[38;5;244my\u001b[39m\u001b[23m = [\u001b[1m5\u001b[22m:0x7fb79092c488] <dbl> \n",
       " \n",
       "\u001b[38;5;214m█\u001b[39m [\u001b[1m6\u001b[22m:0x7fb78b611ec8] <df[,2]> \n",
       "├─\u001b[3m\u001b[38;5;244mx\u001b[39m\u001b[23m = [\u001b[1m7\u001b[22m:0x7fb78e576f28] <dbl> \n",
       "└─\u001b[3m\u001b[38;5;244my\u001b[39m\u001b[23m = [\u001b[1m8\u001b[22m:0x7fb78e576ed8] <dbl> "
      ]
     },
     "metadata": {},
     "output_type": "display_data"
    }
   ],
   "source": [
    "d3 <- d1\n",
    "d3[1,] <- d3[1,] * 3\n",
    "ref(d1, d2, d3)"
   ]
  },
  {
   "cell_type": "markdown",
   "metadata": {},
   "source": [
    "### 2.3.5 Character vectors"
   ]
  },
  {
   "cell_type": "code",
   "execution_count": 50,
   "metadata": {},
   "outputs": [
    {
     "data": {
      "text/plain": [
       "\u001b[38;5;214m█\u001b[39m [\u001b[1m1\u001b[22m:0x7fb790ee3248] <chr> \n",
       "├─[\u001b[1m2\u001b[22m:0x7fb7840c58b0] <string: \"a\"> \n",
       "├─[\u001b[38;5;244m2:0x7fb7840c58b0\u001b[39m] \n",
       "├─[\u001b[1m3\u001b[22m:0x7fb7900e5d28] <string: \"abc\"> \n",
       "└─[\u001b[1m4\u001b[22m:0x7fb7852049d0] <string: \"d\"> "
      ]
     },
     "metadata": {},
     "output_type": "display_data"
    }
   ],
   "source": [
    "x <- c(\"a\",\"a\",\"abc\",\"d\")\n",
    "ref(x, character = TRUE)"
   ]
  },
  {
   "cell_type": "markdown",
   "metadata": {},
   "source": [
    "### 2.3.6 Exercises"
   ]
  },
  {
   "cell_type": "markdown",
   "metadata": {},
   "source": [
    "#### Question 1\n",
    "\n",
    "Why is `tracemem(1:10)` not useful?"
   ]
  },
  {
   "cell_type": "code",
   "execution_count": 53,
   "metadata": {},
   "outputs": [
    {
     "data": {
      "text/html": [
       "'&lt;0x7fb78ddf1d28&gt;'"
      ],
      "text/latex": [
       "'<0x7fb78ddf1d28>'"
      ],
      "text/markdown": [
       "'&lt;0x7fb78ddf1d28&gt;'"
      ],
      "text/plain": [
       "[1] \"<0x7fb78ddf1d28>\""
      ]
     },
     "metadata": {},
     "output_type": "display_data"
    }
   ],
   "source": [
    "tracemem(1:10)"
   ]
  },
  {
   "cell_type": "code",
   "execution_count": 54,
   "metadata": {},
   "outputs": [
    {
     "data": {
      "text/html": [
       "'&lt;0x7fb78b33fcc8&gt;'"
      ],
      "text/latex": [
       "'<0x7fb78b33fcc8>'"
      ],
      "text/markdown": [
       "'&lt;0x7fb78b33fcc8&gt;'"
      ],
      "text/plain": [
       "[1] \"<0x7fb78b33fcc8>\""
      ]
     },
     "metadata": {},
     "output_type": "display_data"
    }
   ],
   "source": [
    "tracemem(1:10)"
   ]
  },
  {
   "cell_type": "code",
   "execution_count": 55,
   "metadata": {},
   "outputs": [
    {
     "data": {
      "text/html": [
       "'&lt;0x7fb78c87c070&gt;'"
      ],
      "text/latex": [
       "'<0x7fb78c87c070>'"
      ],
      "text/markdown": [
       "'&lt;0x7fb78c87c070&gt;'"
      ],
      "text/plain": [
       "[1] \"<0x7fb78c87c070>\""
      ]
     },
     "metadata": {},
     "output_type": "display_data"
    }
   ],
   "source": [
    "tracemem(1:10)"
   ]
  },
  {
   "cell_type": "markdown",
   "metadata": {},
   "source": [
    "`tracemem(1:10)` isn't useful because each time I call it, there isn't anything to bind `1:10` to. So, a new vector is created and stored."
   ]
  },
  {
   "cell_type": "markdown",
   "metadata": {},
   "source": [
    "#### Question 2\n",
    "\n",
    "Explain why `tracemem()` shows two copies when you run this code. Hint: carefully look at the difference betwen this code and the code shown earlier in the section."
   ]
  },
  {
   "cell_type": "code",
   "execution_count": 56,
   "metadata": {},
   "outputs": [
    {
     "data": {
      "text/html": [
       "'&lt;0x7fb78b1d7e08&gt;'"
      ],
      "text/latex": [
       "'<0x7fb78b1d7e08>'"
      ],
      "text/markdown": [
       "'&lt;0x7fb78b1d7e08&gt;'"
      ],
      "text/plain": [
       "[1] \"<0x7fb78b1d7e08>\""
      ]
     },
     "metadata": {},
     "output_type": "display_data"
    },
    {
     "name": "stdout",
     "output_type": "stream",
     "text": [
      "tracemem[0x7fb78b1d7e08 -> 0x7fb78a5f9708]: eval eval withVisible withCallingHandlers doTryCatch tryCatchOne tryCatchList tryCatch try handle timing_fn evaluate_call evaluate doTryCatch tryCatchOne tryCatchList doTryCatch tryCatchOne tryCatchList tryCatch <Anonymous> handle_shell <Anonymous> <Anonymous> \n",
      "tracemem[0x7fb78a5f9708 -> 0x7fb78790b298]: eval eval withVisible withCallingHandlers doTryCatch tryCatchOne tryCatchList tryCatch try handle timing_fn evaluate_call evaluate doTryCatch tryCatchOne tryCatchList doTryCatch tryCatchOne tryCatchList tryCatch <Anonymous> handle_shell <Anonymous> <Anonymous> \n"
     ]
    }
   ],
   "source": [
    "x <- c(1L, 2L, 3L)\n",
    "tracemem(x)\n",
    "\n",
    "x[[3]] <- 4"
   ]
  },
  {
   "cell_type": "markdown",
   "metadata": {},
   "source": [
    "Two copies are shown because I change the third position of the list from `3L` to `4`."
   ]
  },
  {
   "cell_type": "markdown",
   "metadata": {},
   "source": [
    "#### Question 3\n",
    "\n",
    "Sketch out the relationship between the follwoing objects:"
   ]
  },
  {
   "cell_type": "code",
   "execution_count": 57,
   "metadata": {},
   "outputs": [
    {
     "data": {
      "text/plain": [
       "[\u001b[1m1\u001b[22m:0x7fb78cfd0040] <int> \n",
       " \n",
       "\u001b[38;5;214m█\u001b[39m [\u001b[1m2\u001b[22m:0x7fb78e0f4fc8] <list> \n",
       "├─[\u001b[38;5;244m1:0x7fb78cfd0040\u001b[39m] \n",
       "└─[\u001b[38;5;244m1:0x7fb78cfd0040\u001b[39m] \n",
       " \n",
       "\u001b[38;5;214m█\u001b[39m [\u001b[1m3\u001b[22m:0x7fb790167a18] <list> \n",
       "├─[\u001b[38;5;244m2:0x7fb78e0f4fc8\u001b[39m] \n",
       "├─[\u001b[38;5;244m1:0x7fb78cfd0040\u001b[39m] \n",
       "└─[\u001b[1m4\u001b[22m:0x7fb78d87e070] <int> "
      ]
     },
     "metadata": {},
     "output_type": "display_data"
    }
   ],
   "source": [
    "a <- 1:10\n",
    "b <- list(a, a)\n",
    "c <- list(b, a, 1:10)\n",
    "ref(a, b, c)"
   ]
  },
  {
   "cell_type": "markdown",
   "metadata": {},
   "source": [
    "#### Question 4\n",
    "\n",
    "What happens when you run this code?"
   ]
  },
  {
   "cell_type": "code",
   "execution_count": 58,
   "metadata": {},
   "outputs": [
    {
     "data": {
      "text/plain": [
       "\u001b[38;5;214m█\u001b[39m [\u001b[1m1\u001b[22m:0x7fb78f230388] <list> \n",
       "├─[\u001b[1m2\u001b[22m:0x7fb790c319e0] <int> \n",
       "└─\u001b[38;5;214m█\u001b[39m [\u001b[1m3\u001b[22m:0x7fb78e1627f0] <list> \n",
       "  └─[\u001b[38;5;244m2:0x7fb790c319e0\u001b[39m] "
      ]
     },
     "metadata": {},
     "output_type": "display_data"
    }
   ],
   "source": [
    "x <- list(1:10)\n",
    "x[[2]] <- x\n",
    "\n",
    "ref(x)"
   ]
  },
  {
   "cell_type": "markdown",
   "metadata": {},
   "source": [
    "## 2.4 Object Size \n",
    "\n",
    "I can find out how much memory an object takes with `lobstr::obj_size`. \n",
    "\n",
    "So, the question is what is the difference between `obj_size` and `object.size`? In short, `obj_size` is more accurate and relevant in knowing the memory allocation size while `object.size` calculates size literally without considering references and other such nuances into account. (source: https://github.com/r-lib/lobstr/issues/21)"
   ]
  },
  {
   "cell_type": "code",
   "execution_count": null,
   "metadata": {},
   "outputs": [],
   "source": []
  },
  {
   "cell_type": "code",
   "execution_count": 59,
   "metadata": {},
   "outputs": [
    {
     "data": {
      "text/plain": [
       "1,712 B"
      ]
     },
     "metadata": {},
     "output_type": "display_data"
    },
    {
     "data": {
      "text/plain": [
       "1712 bytes"
      ]
     },
     "metadata": {},
     "output_type": "display_data"
    }
   ],
   "source": [
    "obj_size(letters)\n",
    "object.size(letters)"
   ]
  },
  {
   "cell_type": "code",
   "execution_count": 60,
   "metadata": {},
   "outputs": [
    {
     "data": {
      "text/plain": [
       "3,456,344 B"
      ]
     },
     "metadata": {},
     "output_type": "display_data"
    },
    {
     "data": {
      "text/plain": [
       "3456848 bytes"
      ]
     },
     "metadata": {},
     "output_type": "display_data"
    }
   ],
   "source": [
    "obj_size(ggplot2::diamonds)\n",
    "object.size(ggplot2::diamonds)"
   ]
  },
  {
   "cell_type": "code",
   "execution_count": 61,
   "metadata": {},
   "outputs": [
    {
     "data": {
      "text/plain": [
       "8,000,048 B"
      ]
     },
     "metadata": {},
     "output_type": "display_data"
    },
    {
     "data": {
      "text/plain": [
       "8000048 bytes"
      ]
     },
     "metadata": {},
     "output_type": "display_data"
    }
   ],
   "source": [
    "x <- runif(1e6)\n",
    "obj_size(x)\n",
    "object.size(x)"
   ]
  },
  {
   "cell_type": "code",
   "execution_count": 62,
   "metadata": {},
   "outputs": [
    {
     "data": {
      "text/plain": [
       "8,000,128 B"
      ]
     },
     "metadata": {},
     "output_type": "display_data"
    },
    {
     "data": {
      "text/plain": [
       "24000224 bytes"
      ]
     },
     "metadata": {},
     "output_type": "display_data"
    }
   ],
   "source": [
    "y <- list(x, x, x)\n",
    "obj_size(y)\n",
    "object.size(y) # notice the difference between obj_size and object.size"
   ]
  },
  {
   "cell_type": "markdown",
   "metadata": {},
   "source": [
    "### 2.4.1 Exercises"
   ]
  },
  {
   "cell_type": "markdown",
   "metadata": {},
   "source": [
    "#### Question 1\n",
    "\n",
    "In the following example, why are `object.size(y)` and `obj_size(y)` so radically different? Consult the documentation of `object.size()`."
   ]
  },
  {
   "cell_type": "code",
   "execution_count": 66,
   "metadata": {},
   "outputs": [
    {
     "data": {
      "text/plain": [
       "8005648 bytes"
      ]
     },
     "metadata": {},
     "output_type": "display_data"
    },
    {
     "data": {
      "text/plain": [
       "80,896 B"
      ]
     },
     "metadata": {},
     "output_type": "display_data"
    }
   ],
   "source": [
    "y <- rep(list(runif(1e4)), 100)\n",
    "\n",
    "object.size(y)\n",
    "obj_size(y)"
   ]
  },
  {
   "cell_type": "code",
   "execution_count": 67,
   "metadata": {},
   "outputs": [],
   "source": [
    "?object.size"
   ]
  },
  {
   "cell_type": "markdown",
   "metadata": {},
   "source": [
    "First, `object.size` does not detect if elements of a list are shared (multiple binds to the same element). `obj_size` can detect if elements of a list are shared."
   ]
  },
  {
   "cell_type": "markdown",
   "metadata": {},
   "source": [
    "#### Question 2\n",
    "\n",
    "Take the following list. Why is its size somewhat misleading?"
   ]
  },
  {
   "cell_type": "code",
   "execution_count": 68,
   "metadata": {},
   "outputs": [
    {
     "data": {
      "text/plain": [
       "17,608 B"
      ]
     },
     "metadata": {},
     "output_type": "display_data"
    }
   ],
   "source": [
    "funs <- list(mean, sd, var)\n",
    "obj_size(funs)"
   ]
  },
  {
   "cell_type": "markdown",
   "metadata": {},
   "source": [
    "Standard deviation and variance both use the mean. Thus, these elements of the list are bound to the mean. If the mean, sd, and var were computed without calling the mean function directly, the size would be much bigger."
   ]
  },
  {
   "cell_type": "markdown",
   "metadata": {},
   "source": [
    "#### Question 3\n",
    "\n",
    "Predict the output of the following code:"
   ]
  },
  {
   "cell_type": "code",
   "execution_count": 69,
   "metadata": {},
   "outputs": [
    {
     "data": {
      "text/plain": [
       "8,000,048 B"
      ]
     },
     "metadata": {},
     "output_type": "display_data"
    },
    {
     "data": {
      "text/plain": [
       "8,000,112 B"
      ]
     },
     "metadata": {},
     "output_type": "display_data"
    },
    {
     "data": {
      "text/plain": [
       "8,000,112 B"
      ]
     },
     "metadata": {},
     "output_type": "display_data"
    },
    {
     "data": {
      "text/plain": [
       "16,000,160 B"
      ]
     },
     "metadata": {},
     "output_type": "display_data"
    },
    {
     "data": {
      "text/plain": [
       "16,000,160 B"
      ]
     },
     "metadata": {},
     "output_type": "display_data"
    },
    {
     "data": {
      "text/plain": [
       "16,000,160 B"
      ]
     },
     "metadata": {},
     "output_type": "display_data"
    },
    {
     "data": {
      "text/plain": [
       "24,000,208 B"
      ]
     },
     "metadata": {},
     "output_type": "display_data"
    }
   ],
   "source": [
    "a <- runif(1e6)\n",
    "obj_size(a)\n",
    "\n",
    "b <- list(a, a)\n",
    "obj_size(b)\n",
    "obj_size(a, b)\n",
    "\n",
    "b[[1]][[1]] <- 10\n",
    "obj_size(b)\n",
    "obj_size(a, b)\n",
    "\n",
    "b[[2]][[1]] <- 10\n",
    "obj_size(b)\n",
    "obj_size(a, b)"
   ]
  },
  {
   "cell_type": "markdown",
   "metadata": {},
   "source": [
    "## 2.5 Modify-in-place\n",
    "\n",
    "There are two exceptions to copy-on-modify:\n",
    "\n",
    "1. Objects with a single binding get a special performance optimization\n",
    "2. Environments, a special type of object, are always modified in place."
   ]
  },
  {
   "cell_type": "markdown",
   "metadata": {},
   "source": [
    "### 2.5.1 Objects with a single binding\n",
    "\n",
    "If an object, _v_, has a single name bound to it, R will modify it in place.\n",
    "\n",
    "Two complications make predicting exactly when R applies this optimization challenging:\n",
    "\n",
    "1. R can make copies when it sometimes doesn't have to.\n",
    "2. Whenever I call the vast majority of functions, it makes a reference to the object.\n",
    "\n",
    "These exceptions can be explored by a case study of for loops. For loops have the reputation for being slow in R. This slowness is caused by every interation of the loop creating a copy."
   ]
  },
  {
   "cell_type": "code",
   "execution_count": 71,
   "metadata": {},
   "outputs": [],
   "source": [
    "x <- data.frame(matrix(runif(5 * 1e4), ncol = 5))\n",
    "medians <- vapply(x, median, numeric(1))\n",
    "\n",
    "for (i in seq_along(medians)) {\n",
    "  x[[i]] <- x[[i]] - medians[[i]]\n",
    "}"
   ]
  },
  {
   "cell_type": "code",
   "execution_count": 72,
   "metadata": {},
   "outputs": [
    {
     "name": "stdout",
     "output_type": "stream",
     "text": [
      "<0x7fb78f6e29e8> \n"
     ]
    }
   ],
   "source": [
    "cat(tracemem(x), \"\\n\")"
   ]
  },
  {
   "cell_type": "code",
   "execution_count": 73,
   "metadata": {},
   "outputs": [
    {
     "name": "stdout",
     "output_type": "stream",
     "text": [
      "tracemem[0x7fb78f6e29e8 -> 0x7fb78e4d8dd8]: eval eval withVisible withCallingHandlers doTryCatch tryCatchOne tryCatchList tryCatch try handle timing_fn evaluate_call evaluate doTryCatch tryCatchOne tryCatchList doTryCatch tryCatchOne tryCatchList tryCatch <Anonymous> handle_shell <Anonymous> <Anonymous> \n",
      "tracemem[0x7fb78e4d8dd8 -> 0x7fb78e4d8cf8]: [[<-.data.frame [[<- eval eval withVisible withCallingHandlers doTryCatch tryCatchOne tryCatchList tryCatch try handle timing_fn evaluate_call evaluate doTryCatch tryCatchOne tryCatchList doTryCatch tryCatchOne tryCatchList tryCatch <Anonymous> handle_shell <Anonymous> <Anonymous> \n",
      "tracemem[0x7fb78e4d8cf8 -> 0x7fb78e4d8c88]: eval eval withVisible withCallingHandlers doTryCatch tryCatchOne tryCatchList tryCatch try handle timing_fn evaluate_call evaluate doTryCatch tryCatchOne tryCatchList doTryCatch tryCatchOne tryCatchList tryCatch <Anonymous> handle_shell <Anonymous> <Anonymous> \n",
      "tracemem[0x7fb78e4d8c88 -> 0x7fb78e4d8c18]: [[<-.data.frame [[<- eval eval withVisible withCallingHandlers doTryCatch tryCatchOne tryCatchList tryCatch try handle timing_fn evaluate_call evaluate doTryCatch tryCatchOne tryCatchList doTryCatch tryCatchOne tryCatchList tryCatch <Anonymous> handle_shell <Anonymous> <Anonymous> \n",
      "tracemem[0x7fb78e4d8c18 -> 0x7fb78e4d8ba8]: eval eval withVisible withCallingHandlers doTryCatch tryCatchOne tryCatchList tryCatch try handle timing_fn evaluate_call evaluate doTryCatch tryCatchOne tryCatchList doTryCatch tryCatchOne tryCatchList tryCatch <Anonymous> handle_shell <Anonymous> <Anonymous> \n",
      "tracemem[0x7fb78e4d8ba8 -> 0x7fb78e4d8ac8]: [[<-.data.frame [[<- eval eval withVisible withCallingHandlers doTryCatch tryCatchOne tryCatchList tryCatch try handle timing_fn evaluate_call evaluate doTryCatch tryCatchOne tryCatchList doTryCatch tryCatchOne tryCatchList tryCatch <Anonymous> handle_shell <Anonymous> <Anonymous> \n",
      "tracemem[0x7fb78e4d8ac8 -> 0x7fb78e4d8908]: eval eval withVisible withCallingHandlers doTryCatch tryCatchOne tryCatchList tryCatch try handle timing_fn evaluate_call evaluate doTryCatch tryCatchOne tryCatchList doTryCatch tryCatchOne tryCatchList tryCatch <Anonymous> handle_shell <Anonymous> <Anonymous> \n",
      "tracemem[0x7fb78e4d8908 -> 0x7fb78e4d8828]: [[<-.data.frame [[<- eval eval withVisible withCallingHandlers doTryCatch tryCatchOne tryCatchList tryCatch try handle timing_fn evaluate_call evaluate doTryCatch tryCatchOne tryCatchList doTryCatch tryCatchOne tryCatchList tryCatch <Anonymous> handle_shell <Anonymous> <Anonymous> \n",
      "tracemem[0x7fb78e4d8828 -> 0x7fb78e4d8748]: eval eval withVisible withCallingHandlers doTryCatch tryCatchOne tryCatchList tryCatch try handle timing_fn evaluate_call evaluate doTryCatch tryCatchOne tryCatchList doTryCatch tryCatchOne tryCatchList tryCatch <Anonymous> handle_shell <Anonymous> <Anonymous> \n",
      "tracemem[0x7fb78e4d8748 -> 0x7fb78e4d86d8]: [[<-.data.frame [[<- eval eval withVisible withCallingHandlers doTryCatch tryCatchOne tryCatchList tryCatch try handle timing_fn evaluate_call evaluate doTryCatch tryCatchOne tryCatchList doTryCatch tryCatchOne tryCatchList tryCatch <Anonymous> handle_shell <Anonymous> <Anonymous> \n"
     ]
    }
   ],
   "source": [
    "for(i in 1:5){\n",
    "    x[[i]] <- x[[i]] - medians[[i]]\n",
    "}"
   ]
  },
  {
   "cell_type": "code",
   "execution_count": 74,
   "metadata": {},
   "outputs": [],
   "source": [
    "untracemem(x)"
   ]
  },
  {
   "cell_type": "markdown",
   "metadata": {},
   "source": [
    "So, what is going on in this code? If I look closely, I will see there are 3 (yeah, 3!) copies of the data frame created on each interation. This means I am really making in the neighborhood of 15 copies! This will eat my memory!!!\n",
    "\n",
    "In order to reduce the number of copies, it would be wise to use a list instead of a data frame."
   ]
  },
  {
   "cell_type": "code",
   "execution_count": 75,
   "metadata": {},
   "outputs": [
    {
     "name": "stdout",
     "output_type": "stream",
     "text": [
      "<0x7fb78e641cb8> \n",
      "tracemem[0x7fb78e641cb8 -> 0x7fb78bdb71e8]: eval eval withVisible withCallingHandlers doTryCatch tryCatchOne tryCatchList tryCatch try handle timing_fn evaluate_call evaluate doTryCatch tryCatchOne tryCatchList doTryCatch tryCatchOne tryCatchList tryCatch <Anonymous> handle_shell <Anonymous> <Anonymous> \n"
     ]
    }
   ],
   "source": [
    "y <- as.list(x)\n",
    "cat(tracemem(y), \"\\n\")\n",
    "\n",
    "for(i in 1:5){\n",
    "    y[[i]] <- y[[i]] - medians[[i]]\n",
    "}"
   ]
  },
  {
   "cell_type": "markdown",
   "metadata": {},
   "source": [
    "It's not hard to determine when a copy is going to be made. It is hard to prevent it. If I find myself restoring to exotic tricks to avoid copies, it may be time to rewrite your function in C++, as described in Chapter 25."
   ]
  },
  {
   "cell_type": "code",
   "execution_count": null,
   "metadata": {},
   "outputs": [],
   "source": []
  }
 ],
 "metadata": {
  "kernelspec": {
   "display_name": "R",
   "language": "R",
   "name": "ir"
  },
  "language_info": {
   "codemirror_mode": "r",
   "file_extension": ".r",
   "mimetype": "text/x-r-source",
   "name": "R",
   "pygments_lexer": "r",
   "version": "4.0.2"
  }
 },
 "nbformat": 4,
 "nbformat_minor": 2
}
